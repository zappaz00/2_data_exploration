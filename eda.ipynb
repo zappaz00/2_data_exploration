{
 "cells": [
  {
   "cell_type": "code",
   "execution_count": 334,
   "id": "b489cb9e",
   "metadata": {},
   "outputs": [],
   "source": [
    "import pandas as pd\n",
    "import seaborn as sns\n",
    "import matplotlib.pyplot as plt\n",
    "%matplotlib inline"
   ]
  },
  {
   "cell_type": "markdown",
   "id": "d07912a0",
   "metadata": {},
   "source": [
    "# Context"
   ]
  },
  {
   "cell_type": "code",
   "execution_count": 335,
   "id": "6b981d68",
   "metadata": {},
   "outputs": [
    {
     "name": "stdout",
     "output_type": "stream",
     "text": [
      "(100000, 11)\n"
     ]
    },
    {
     "data": {
      "text/html": [
       "<div>\n",
       "<style scoped>\n",
       "    .dataframe tbody tr th:only-of-type {\n",
       "        vertical-align: middle;\n",
       "    }\n",
       "\n",
       "    .dataframe tbody tr th {\n",
       "        vertical-align: top;\n",
       "    }\n",
       "\n",
       "    .dataframe thead th {\n",
       "        text-align: right;\n",
       "    }\n",
       "</style>\n",
       "<table border=\"1\" class=\"dataframe\">\n",
       "  <thead>\n",
       "    <tr style=\"text-align: right;\">\n",
       "      <th></th>\n",
       "      <th>Survived</th>\n",
       "      <th>Pclass</th>\n",
       "      <th>Name</th>\n",
       "      <th>Sex</th>\n",
       "      <th>Age</th>\n",
       "      <th>SibSp</th>\n",
       "      <th>Parch</th>\n",
       "      <th>Ticket</th>\n",
       "      <th>Fare</th>\n",
       "      <th>Cabin</th>\n",
       "      <th>Embarked</th>\n",
       "    </tr>\n",
       "    <tr>\n",
       "      <th>PassengerId</th>\n",
       "      <th></th>\n",
       "      <th></th>\n",
       "      <th></th>\n",
       "      <th></th>\n",
       "      <th></th>\n",
       "      <th></th>\n",
       "      <th></th>\n",
       "      <th></th>\n",
       "      <th></th>\n",
       "      <th></th>\n",
       "      <th></th>\n",
       "    </tr>\n",
       "  </thead>\n",
       "  <tbody>\n",
       "    <tr>\n",
       "      <th>0</th>\n",
       "      <td>1</td>\n",
       "      <td>1</td>\n",
       "      <td>Oconnor, Frankie</td>\n",
       "      <td>male</td>\n",
       "      <td>NaN</td>\n",
       "      <td>2</td>\n",
       "      <td>0</td>\n",
       "      <td>209245</td>\n",
       "      <td>27.14</td>\n",
       "      <td>C12239</td>\n",
       "      <td>S</td>\n",
       "    </tr>\n",
       "    <tr>\n",
       "      <th>1</th>\n",
       "      <td>0</td>\n",
       "      <td>3</td>\n",
       "      <td>Bryan, Drew</td>\n",
       "      <td>male</td>\n",
       "      <td>NaN</td>\n",
       "      <td>0</td>\n",
       "      <td>0</td>\n",
       "      <td>27323</td>\n",
       "      <td>13.35</td>\n",
       "      <td>NaN</td>\n",
       "      <td>S</td>\n",
       "    </tr>\n",
       "    <tr>\n",
       "      <th>2</th>\n",
       "      <td>0</td>\n",
       "      <td>3</td>\n",
       "      <td>Owens, Kenneth</td>\n",
       "      <td>male</td>\n",
       "      <td>0.33</td>\n",
       "      <td>1</td>\n",
       "      <td>2</td>\n",
       "      <td>CA 457703</td>\n",
       "      <td>71.29</td>\n",
       "      <td>NaN</td>\n",
       "      <td>S</td>\n",
       "    </tr>\n",
       "    <tr>\n",
       "      <th>3</th>\n",
       "      <td>0</td>\n",
       "      <td>3</td>\n",
       "      <td>Kramer, James</td>\n",
       "      <td>male</td>\n",
       "      <td>19.00</td>\n",
       "      <td>0</td>\n",
       "      <td>0</td>\n",
       "      <td>A. 10866</td>\n",
       "      <td>13.04</td>\n",
       "      <td>NaN</td>\n",
       "      <td>S</td>\n",
       "    </tr>\n",
       "    <tr>\n",
       "      <th>4</th>\n",
       "      <td>1</td>\n",
       "      <td>3</td>\n",
       "      <td>Bond, Michael</td>\n",
       "      <td>male</td>\n",
       "      <td>25.00</td>\n",
       "      <td>0</td>\n",
       "      <td>0</td>\n",
       "      <td>427635</td>\n",
       "      <td>7.76</td>\n",
       "      <td>NaN</td>\n",
       "      <td>S</td>\n",
       "    </tr>\n",
       "  </tbody>\n",
       "</table>\n",
       "</div>"
      ],
      "text/plain": [
       "             Survived  Pclass              Name   Sex    Age  SibSp  Parch  \\\n",
       "PassengerId                                                                  \n",
       "0                   1       1  Oconnor, Frankie  male    NaN      2      0   \n",
       "1                   0       3       Bryan, Drew  male    NaN      0      0   \n",
       "2                   0       3    Owens, Kenneth  male   0.33      1      2   \n",
       "3                   0       3     Kramer, James  male  19.00      0      0   \n",
       "4                   1       3     Bond, Michael  male  25.00      0      0   \n",
       "\n",
       "                Ticket   Fare   Cabin Embarked  \n",
       "PassengerId                                     \n",
       "0               209245  27.14  C12239        S  \n",
       "1                27323  13.35     NaN        S  \n",
       "2            CA 457703  71.29     NaN        S  \n",
       "3             A. 10866  13.04     NaN        S  \n",
       "4               427635   7.76     NaN        S  "
      ]
     },
     "execution_count": 335,
     "metadata": {},
     "output_type": "execute_result"
    }
   ],
   "source": [
    "titanic_data = pd.read_csv('train.csv', index_col='PassengerId')\n",
    "print(titanic_data.shape)\n",
    "titanic_data.head()"
   ]
  },
  {
   "cell_type": "markdown",
   "id": "9b4320c6",
   "metadata": {},
   "source": [
    "# Data quality assessment"
   ]
  },
  {
   "cell_type": "code",
   "execution_count": 336,
   "id": "e443ca82",
   "metadata": {},
   "outputs": [
    {
     "name": "stdout",
     "output_type": "stream",
     "text": [
      "<class 'pandas.core.frame.DataFrame'>\n",
      "Int64Index: 100000 entries, 0 to 99999\n",
      "Data columns (total 11 columns):\n",
      " #   Column    Non-Null Count   Dtype  \n",
      "---  ------    --------------   -----  \n",
      " 0   Survived  100000 non-null  int64  \n",
      " 1   Pclass    100000 non-null  int64  \n",
      " 2   Name      100000 non-null  object \n",
      " 3   Sex       100000 non-null  object \n",
      " 4   Age       96708 non-null   float64\n",
      " 5   SibSp     100000 non-null  int64  \n",
      " 6   Parch     100000 non-null  int64  \n",
      " 7   Ticket    95377 non-null   object \n",
      " 8   Fare      99866 non-null   float64\n",
      " 9   Cabin     32134 non-null   object \n",
      " 10  Embarked  99750 non-null   object \n",
      "dtypes: float64(2), int64(4), object(5)\n",
      "memory usage: 9.2+ MB\n"
     ]
    }
   ],
   "source": [
    "titanic_data.info()"
   ]
  },
  {
   "cell_type": "code",
   "execution_count": 337,
   "id": "8f5293b2-c035-495f-9087-d657c3a63f93",
   "metadata": {},
   "outputs": [
    {
     "data": {
      "text/plain": [
       "Survived        0\n",
       "Pclass          0\n",
       "Name            0\n",
       "Sex             0\n",
       "Age          3292\n",
       "SibSp           0\n",
       "Parch           0\n",
       "Ticket       4623\n",
       "Fare          134\n",
       "Cabin       67866\n",
       "Embarked      250\n",
       "dtype: int64"
      ]
     },
     "execution_count": 337,
     "metadata": {},
     "output_type": "execute_result"
    }
   ],
   "source": [
    "titanic_data.isna().sum()"
   ]
  },
  {
   "cell_type": "markdown",
   "id": "1451b331-c7b7-45e7-a27c-c71808b007f1",
   "metadata": {},
   "source": [
    "Больше всего значений пропущено для Cabin. Прям подчищать все строки с NA не имеет пока смысла, будем аккуратно удалять эти поля только при анализе текстовых колонок"
   ]
  },
  {
   "cell_type": "code",
   "execution_count": 338,
   "id": "72929e58-5ea0-4879-abe6-6ea6cc656e35",
   "metadata": {},
   "outputs": [
    {
     "name": "stdout",
     "output_type": "stream",
     "text": [
      "(100000, 11)\n"
     ]
    },
    {
     "data": {
      "text/html": [
       "<div>\n",
       "<style scoped>\n",
       "    .dataframe tbody tr th:only-of-type {\n",
       "        vertical-align: middle;\n",
       "    }\n",
       "\n",
       "    .dataframe tbody tr th {\n",
       "        vertical-align: top;\n",
       "    }\n",
       "\n",
       "    .dataframe thead th {\n",
       "        text-align: right;\n",
       "    }\n",
       "</style>\n",
       "<table border=\"1\" class=\"dataframe\">\n",
       "  <thead>\n",
       "    <tr style=\"text-align: right;\">\n",
       "      <th></th>\n",
       "      <th>Survived</th>\n",
       "      <th>Pclass</th>\n",
       "      <th>Name</th>\n",
       "      <th>Sex</th>\n",
       "      <th>Age</th>\n",
       "      <th>SibSp</th>\n",
       "      <th>Parch</th>\n",
       "      <th>Ticket</th>\n",
       "      <th>Fare</th>\n",
       "      <th>Cabin</th>\n",
       "      <th>Embarked</th>\n",
       "    </tr>\n",
       "    <tr>\n",
       "      <th>PassengerId</th>\n",
       "      <th></th>\n",
       "      <th></th>\n",
       "      <th></th>\n",
       "      <th></th>\n",
       "      <th></th>\n",
       "      <th></th>\n",
       "      <th></th>\n",
       "      <th></th>\n",
       "      <th></th>\n",
       "      <th></th>\n",
       "      <th></th>\n",
       "    </tr>\n",
       "  </thead>\n",
       "  <tbody>\n",
       "    <tr>\n",
       "      <th>0</th>\n",
       "      <td>1</td>\n",
       "      <td>1</td>\n",
       "      <td>Oconnor, Frankie</td>\n",
       "      <td>male</td>\n",
       "      <td>NaN</td>\n",
       "      <td>2</td>\n",
       "      <td>0</td>\n",
       "      <td>209245</td>\n",
       "      <td>27.14</td>\n",
       "      <td>C12239</td>\n",
       "      <td>S</td>\n",
       "    </tr>\n",
       "    <tr>\n",
       "      <th>1</th>\n",
       "      <td>0</td>\n",
       "      <td>3</td>\n",
       "      <td>Bryan, Drew</td>\n",
       "      <td>male</td>\n",
       "      <td>NaN</td>\n",
       "      <td>0</td>\n",
       "      <td>0</td>\n",
       "      <td>27323</td>\n",
       "      <td>13.35</td>\n",
       "      <td>NaN</td>\n",
       "      <td>S</td>\n",
       "    </tr>\n",
       "    <tr>\n",
       "      <th>2</th>\n",
       "      <td>0</td>\n",
       "      <td>3</td>\n",
       "      <td>Owens, Kenneth</td>\n",
       "      <td>male</td>\n",
       "      <td>0.33</td>\n",
       "      <td>1</td>\n",
       "      <td>2</td>\n",
       "      <td>CA 457703</td>\n",
       "      <td>71.29</td>\n",
       "      <td>NaN</td>\n",
       "      <td>S</td>\n",
       "    </tr>\n",
       "    <tr>\n",
       "      <th>3</th>\n",
       "      <td>0</td>\n",
       "      <td>3</td>\n",
       "      <td>Kramer, James</td>\n",
       "      <td>male</td>\n",
       "      <td>19.00</td>\n",
       "      <td>0</td>\n",
       "      <td>0</td>\n",
       "      <td>A. 10866</td>\n",
       "      <td>13.04</td>\n",
       "      <td>NaN</td>\n",
       "      <td>S</td>\n",
       "    </tr>\n",
       "    <tr>\n",
       "      <th>4</th>\n",
       "      <td>1</td>\n",
       "      <td>3</td>\n",
       "      <td>Bond, Michael</td>\n",
       "      <td>male</td>\n",
       "      <td>25.00</td>\n",
       "      <td>0</td>\n",
       "      <td>0</td>\n",
       "      <td>427635</td>\n",
       "      <td>7.76</td>\n",
       "      <td>NaN</td>\n",
       "      <td>S</td>\n",
       "    </tr>\n",
       "    <tr>\n",
       "      <th>5</th>\n",
       "      <td>0</td>\n",
       "      <td>2</td>\n",
       "      <td>Sassano, Jonathan</td>\n",
       "      <td>male</td>\n",
       "      <td>35.00</td>\n",
       "      <td>0</td>\n",
       "      <td>0</td>\n",
       "      <td>13363</td>\n",
       "      <td>6.71</td>\n",
       "      <td>NaN</td>\n",
       "      <td>S</td>\n",
       "    </tr>\n",
       "    <tr>\n",
       "      <th>6</th>\n",
       "      <td>0</td>\n",
       "      <td>3</td>\n",
       "      <td>Conway, Jose</td>\n",
       "      <td>male</td>\n",
       "      <td>7.00</td>\n",
       "      <td>0</td>\n",
       "      <td>0</td>\n",
       "      <td>A/5</td>\n",
       "      <td>9.77</td>\n",
       "      <td>NaN</td>\n",
       "      <td>S</td>\n",
       "    </tr>\n",
       "    <tr>\n",
       "      <th>7</th>\n",
       "      <td>1</td>\n",
       "      <td>3</td>\n",
       "      <td>Werner, Linda</td>\n",
       "      <td>female</td>\n",
       "      <td>6.00</td>\n",
       "      <td>1</td>\n",
       "      <td>2</td>\n",
       "      <td>434426</td>\n",
       "      <td>31.50</td>\n",
       "      <td>NaN</td>\n",
       "      <td>S</td>\n",
       "    </tr>\n",
       "    <tr>\n",
       "      <th>8</th>\n",
       "      <td>0</td>\n",
       "      <td>1</td>\n",
       "      <td>Wardlaw, Michael</td>\n",
       "      <td>male</td>\n",
       "      <td>27.00</td>\n",
       "      <td>2</td>\n",
       "      <td>1</td>\n",
       "      <td>474849</td>\n",
       "      <td>73.02</td>\n",
       "      <td>A7253</td>\n",
       "      <td>S</td>\n",
       "    </tr>\n",
       "    <tr>\n",
       "      <th>9</th>\n",
       "      <td>0</td>\n",
       "      <td>2</td>\n",
       "      <td>Greigo, Rudy</td>\n",
       "      <td>male</td>\n",
       "      <td>66.00</td>\n",
       "      <td>0</td>\n",
       "      <td>0</td>\n",
       "      <td>6981</td>\n",
       "      <td>9.14</td>\n",
       "      <td>D2969</td>\n",
       "      <td>C</td>\n",
       "    </tr>\n",
       "  </tbody>\n",
       "</table>\n",
       "</div>"
      ],
      "text/plain": [
       "             Survived  Pclass               Name     Sex    Age  SibSp  Parch  \\\n",
       "PassengerId                                                                     \n",
       "0                   1       1   Oconnor, Frankie    male    NaN      2      0   \n",
       "1                   0       3        Bryan, Drew    male    NaN      0      0   \n",
       "2                   0       3     Owens, Kenneth    male   0.33      1      2   \n",
       "3                   0       3      Kramer, James    male  19.00      0      0   \n",
       "4                   1       3      Bond, Michael    male  25.00      0      0   \n",
       "5                   0       2  Sassano, Jonathan    male  35.00      0      0   \n",
       "6                   0       3       Conway, Jose    male   7.00      0      0   \n",
       "7                   1       3      Werner, Linda  female   6.00      1      2   \n",
       "8                   0       1   Wardlaw, Michael    male  27.00      2      1   \n",
       "9                   0       2       Greigo, Rudy    male  66.00      0      0   \n",
       "\n",
       "                Ticket   Fare   Cabin Embarked  \n",
       "PassengerId                                     \n",
       "0               209245  27.14  C12239        S  \n",
       "1                27323  13.35     NaN        S  \n",
       "2            CA 457703  71.29     NaN        S  \n",
       "3             A. 10866  13.04     NaN        S  \n",
       "4               427635   7.76     NaN        S  \n",
       "5                13363   6.71     NaN        S  \n",
       "6                 A/5    9.77     NaN        S  \n",
       "7               434426  31.50     NaN        S  \n",
       "8               474849  73.02   A7253        S  \n",
       "9                 6981   9.14   D2969        C  "
      ]
     },
     "execution_count": 338,
     "metadata": {},
     "output_type": "execute_result"
    }
   ],
   "source": [
    "print(titanic_data.shape)\n",
    "titanic_data.head(10)"
   ]
  },
  {
   "cell_type": "markdown",
   "id": "5408eca5",
   "metadata": {},
   "source": [
    "# Data exploration"
   ]
  },
  {
   "cell_type": "markdown",
   "id": "54f4cf3f-1152-4841-bf7e-84fb81232903",
   "metadata": {},
   "source": [
    "## Просто знакомство со значениями в колонках"
   ]
  },
  {
   "cell_type": "code",
   "execution_count": 339,
   "id": "2417286d",
   "metadata": {},
   "outputs": [
    {
     "data": {
      "text/html": [
       "<div>\n",
       "<style scoped>\n",
       "    .dataframe tbody tr th:only-of-type {\n",
       "        vertical-align: middle;\n",
       "    }\n",
       "\n",
       "    .dataframe tbody tr th {\n",
       "        vertical-align: top;\n",
       "    }\n",
       "\n",
       "    .dataframe thead th {\n",
       "        text-align: right;\n",
       "    }\n",
       "</style>\n",
       "<table border=\"1\" class=\"dataframe\">\n",
       "  <thead>\n",
       "    <tr style=\"text-align: right;\">\n",
       "      <th></th>\n",
       "      <th>Survived</th>\n",
       "      <th>Pclass</th>\n",
       "      <th>Age</th>\n",
       "      <th>SibSp</th>\n",
       "      <th>Parch</th>\n",
       "      <th>Fare</th>\n",
       "    </tr>\n",
       "  </thead>\n",
       "  <tbody>\n",
       "    <tr>\n",
       "      <th>count</th>\n",
       "      <td>100000.000000</td>\n",
       "      <td>100000.000000</td>\n",
       "      <td>96708.000000</td>\n",
       "      <td>100000.000000</td>\n",
       "      <td>100000.000000</td>\n",
       "      <td>99866.00000</td>\n",
       "    </tr>\n",
       "    <tr>\n",
       "      <th>mean</th>\n",
       "      <td>0.427740</td>\n",
       "      <td>2.106910</td>\n",
       "      <td>38.355472</td>\n",
       "      <td>0.397690</td>\n",
       "      <td>0.454560</td>\n",
       "      <td>43.92933</td>\n",
       "    </tr>\n",
       "    <tr>\n",
       "      <th>std</th>\n",
       "      <td>0.494753</td>\n",
       "      <td>0.837727</td>\n",
       "      <td>18.313556</td>\n",
       "      <td>0.862566</td>\n",
       "      <td>0.950076</td>\n",
       "      <td>69.58882</td>\n",
       "    </tr>\n",
       "    <tr>\n",
       "      <th>min</th>\n",
       "      <td>0.000000</td>\n",
       "      <td>1.000000</td>\n",
       "      <td>0.080000</td>\n",
       "      <td>0.000000</td>\n",
       "      <td>0.000000</td>\n",
       "      <td>0.68000</td>\n",
       "    </tr>\n",
       "    <tr>\n",
       "      <th>25%</th>\n",
       "      <td>0.000000</td>\n",
       "      <td>1.000000</td>\n",
       "      <td>25.000000</td>\n",
       "      <td>0.000000</td>\n",
       "      <td>0.000000</td>\n",
       "      <td>10.04000</td>\n",
       "    </tr>\n",
       "    <tr>\n",
       "      <th>50%</th>\n",
       "      <td>0.000000</td>\n",
       "      <td>2.000000</td>\n",
       "      <td>39.000000</td>\n",
       "      <td>0.000000</td>\n",
       "      <td>0.000000</td>\n",
       "      <td>24.46000</td>\n",
       "    </tr>\n",
       "    <tr>\n",
       "      <th>75%</th>\n",
       "      <td>1.000000</td>\n",
       "      <td>3.000000</td>\n",
       "      <td>53.000000</td>\n",
       "      <td>1.000000</td>\n",
       "      <td>1.000000</td>\n",
       "      <td>33.50000</td>\n",
       "    </tr>\n",
       "    <tr>\n",
       "      <th>max</th>\n",
       "      <td>1.000000</td>\n",
       "      <td>3.000000</td>\n",
       "      <td>87.000000</td>\n",
       "      <td>8.000000</td>\n",
       "      <td>9.000000</td>\n",
       "      <td>744.66000</td>\n",
       "    </tr>\n",
       "  </tbody>\n",
       "</table>\n",
       "</div>"
      ],
      "text/plain": [
       "            Survived         Pclass           Age          SibSp  \\\n",
       "count  100000.000000  100000.000000  96708.000000  100000.000000   \n",
       "mean        0.427740       2.106910     38.355472       0.397690   \n",
       "std         0.494753       0.837727     18.313556       0.862566   \n",
       "min         0.000000       1.000000      0.080000       0.000000   \n",
       "25%         0.000000       1.000000     25.000000       0.000000   \n",
       "50%         0.000000       2.000000     39.000000       0.000000   \n",
       "75%         1.000000       3.000000     53.000000       1.000000   \n",
       "max         1.000000       3.000000     87.000000       8.000000   \n",
       "\n",
       "               Parch         Fare  \n",
       "count  100000.000000  99866.00000  \n",
       "mean        0.454560     43.92933  \n",
       "std         0.950076     69.58882  \n",
       "min         0.000000      0.68000  \n",
       "25%         0.000000     10.04000  \n",
       "50%         0.000000     24.46000  \n",
       "75%         1.000000     33.50000  \n",
       "max         9.000000    744.66000  "
      ]
     },
     "execution_count": 339,
     "metadata": {},
     "output_type": "execute_result"
    }
   ],
   "source": [
    "titanic_data.describe()"
   ]
  },
  {
   "cell_type": "code",
   "execution_count": 340,
   "id": "3ead5e4d-1de5-408a-acb7-2ad22f011596",
   "metadata": {},
   "outputs": [
    {
     "data": {
      "text/plain": [
       "<AxesSubplot:title={'center':'Гистограмма распределения возрастов'}, xlabel='Age', ylabel='Count'>"
      ]
     },
     "execution_count": 340,
     "metadata": {},
     "output_type": "execute_result"
    },
    {
     "data": {
      "image/png": "[encoded data removed]",
      "text/plain": [
       "<Figure size 432x288 with 1 Axes>"
      ]
     },
     "metadata": {},
     "output_type": "display_data"
    }
   ],
   "source": [
    "sns.set_style('darkgrid')\n",
    "plt.title('Гистограмма распределения возрастов')\n",
    "sns.histplot(titanic_data['Age'], binwidth=1)"
   ]
  },
  {
   "cell_type": "code",
   "execution_count": 341,
   "id": "14c78bca-fe44-4f61-ac00-dd04d1e710f0",
   "metadata": {},
   "outputs": [
    {
     "name": "stdout",
     "output_type": "stream",
     "text": [
      "male and female ratio\n"
     ]
    },
    {
     "data": {
      "text/plain": [
       "male      0.56114\n",
       "female    0.43886\n",
       "Name: Sex, dtype: float64"
      ]
     },
     "execution_count": 341,
     "metadata": {},
     "output_type": "execute_result"
    }
   ],
   "source": [
    "print('male and female ratio')\n",
    "titanic_data['Sex'].value_counts() / titanic_data['Sex'].count()"
   ]
  },
  {
   "cell_type": "code",
   "execution_count": 342,
   "id": "6eb4117d-79f6-4d9c-a898-af780b8eaf91",
   "metadata": {},
   "outputs": [
    {
     "data": {
      "text/plain": [
       "<AxesSubplot:title={'center':'Гистограмма распределения стоимости билета'}, xlabel='Fare', ylabel='Count'>"
      ]
     },
     "execution_count": 342,
     "metadata": {},
     "output_type": "execute_result"
    },
    {
     "data": {
      "image/png": "[encoded data removed]",
      "text/plain": [
       "<Figure size 432x288 with 1 Axes>"
      ]
     },
     "metadata": {},
     "output_type": "display_data"
    }
   ],
   "source": [
    "plt.title('Гистограмма распределения стоимости билета')\n",
    "sns.histplot(titanic_data['Fare'])"
   ]
  },
  {
   "cell_type": "code",
   "execution_count": 343,
   "id": "7a8889b6-3fcd-420e-b21e-103b03017f58",
   "metadata": {},
   "outputs": [
    {
     "data": {
      "text/plain": [
       "<AxesSubplot:title={'center':'Гистограмма распределения класса'}, xlabel='Pclass', ylabel='Count'>"
      ]
     },
     "execution_count": 343,
     "metadata": {},
     "output_type": "execute_result"
    },
    {
     "data": {
      "image/png": "[encoded data removed]",
      "text/plain": [
       "<Figure size 432x288 with 1 Axes>"
      ]
     },
     "metadata": {},
     "output_type": "display_data"
    }
   ],
   "source": [
    "plt.title('Гистограмма распределения класса')\n",
    "sns.histplot(titanic_data['Pclass'])"
   ]
  },
  {
   "cell_type": "code",
   "execution_count": 344,
   "id": "9285c662-e63b-4ea6-b5aa-6240d9997abc",
   "metadata": {},
   "outputs": [
    {
     "data": {
      "text/plain": [
       "A/5             602\n",
       "C.A.            177\n",
       "SC/PARIS        145\n",
       "SOTON/O.Q.       80\n",
       "SC               57\n",
       "               ... \n",
       "421812            1\n",
       "PC 420601         1\n",
       "PC 26800          1\n",
       "STON/O 23755      1\n",
       "458074            1\n",
       "Name: Ticket, Length: 75331, dtype: int64"
      ]
     },
     "execution_count": 344,
     "metadata": {},
     "output_type": "execute_result"
    }
   ],
   "source": [
    "titanic_data['Ticket'].value_counts()"
   ]
  },
  {
   "cell_type": "code",
   "execution_count": 345,
   "id": "f4b2f038-1e79-4a10-8b70-69e52d1051ce",
   "metadata": {},
   "outputs": [
    {
     "data": {
      "text/plain": [
       "S    72139\n",
       "C    22187\n",
       "Q     5424\n",
       "Name: Embarked, dtype: int64"
      ]
     },
     "execution_count": 345,
     "metadata": {},
     "output_type": "execute_result"
    }
   ],
   "source": [
    "titanic_data['Embarked'].value_counts() #порты отправления"
   ]
  },
  {
   "cell_type": "markdown",
   "id": "b9dba931-b828-4226-8d08-38c45da2bdaf",
   "metadata": {},
   "source": [
    "Количество человек в каждой кабине:"
   ]
  },
  {
   "cell_type": "code",
   "execution_count": 346,
   "id": "7e2f37b7-9b95-4073-9d57-db9a02086889",
   "metadata": {},
   "outputs": [
    {
     "data": {
      "text/plain": [
       "C19828    6\n",
       "C6906     5\n",
       "C13699    5\n",
       "C14534    5\n",
       "B11110    5\n",
       "         ..\n",
       "A21234    1\n",
       "A4905     1\n",
       "C7208     1\n",
       "A5788     1\n",
       "D17243    1\n",
       "Name: Cabin, Length: 26992, dtype: int64"
      ]
     },
     "execution_count": 346,
     "metadata": {},
     "output_type": "execute_result"
    }
   ],
   "source": [
    "titanic_data['Cabin'].value_counts()"
   ]
  },
  {
   "cell_type": "markdown",
   "id": "3a701fee-2f79-4dc9-a350-78efb775aa18",
   "metadata": {},
   "source": [
    "Видимо сектор какой-то/этаж?"
   ]
  },
  {
   "cell_type": "markdown",
   "id": "0243617e-72dd-45ea-8639-fe74ac95a12a",
   "metadata": {},
   "source": [
    "## Процент выживших людей"
   ]
  },
  {
   "cell_type": "code",
   "execution_count": 347,
   "id": "c073c153-b816-4f57-a72e-890ca2662241",
   "metadata": {},
   "outputs": [
    {
     "data": {
      "text/plain": [
       "0.42774"
      ]
     },
     "execution_count": 347,
     "metadata": {},
     "output_type": "execute_result"
    }
   ],
   "source": [
    "titanic_data.Survived.sum() / titanic_data.shape[0]"
   ]
  },
  {
   "cell_type": "markdown",
   "id": "e8295c09-80d5-4f93-8340-091903c92955",
   "metadata": {},
   "source": [
    "## Зависимость выживаемости от пола"
   ]
  },
  {
   "cell_type": "code",
   "execution_count": 348,
   "id": "0dd736b1-f5d3-4bc1-a278-507aaebfbce8",
   "metadata": {},
   "outputs": [
    {
     "data": {
      "text/plain": [
       "Sex\n",
       "0    0.269977\n",
       "1    0.730023\n",
       "Name: Survived, dtype: float64"
      ]
     },
     "execution_count": 348,
     "metadata": {},
     "output_type": "execute_result"
    },
    {
     "data": {
      "image/png": "[encoded data removed]",
      "text/plain": [
       "<Figure size 432x288 with 1 Axes>"
      ]
     },
     "metadata": {},
     "output_type": "display_data"
    }
   ],
   "source": [
    "titanic_data_sex = titanic_data.copy()\n",
    "titanic_data_sex.Sex = titanic_data_sex.Sex.replace({'male':0, 'female':1})\n",
    "sns.kdeplot(titanic_data_sex[titanic_data_sex.Survived==0].Sex, label='dead', shade=True)\n",
    "sns.kdeplot(titanic_data_sex[titanic_data_sex.Survived==1].Sex, label='alive', shade=True)\n",
    "\n",
    "titanic_data_sex.groupby('Sex').Survived.sum() / titanic_data.Survived.sum()"
   ]
  },
  {
   "cell_type": "markdown",
   "id": "0d5f8c29-171d-4d04-a517-e47bf37c393e",
   "metadata": {},
   "source": [
    "## Зависимость выживаемости от сектора"
   ]
  },
  {
   "cell_type": "code",
   "execution_count": 349,
   "id": "60f371b1-b61d-40b4-b74e-e1771113b632",
   "metadata": {},
   "outputs": [
    {
     "name": "stdout",
     "output_type": "stream",
     "text": [
      "Cabin\n",
      "T    0.000716\n",
      "G    0.020606\n",
      "F    0.028379\n",
      "E    0.055223\n",
      "A    0.088562\n",
      "D    0.136166\n",
      "B    0.239710\n",
      "C    0.430639\n",
      "Name: Survived, dtype: float64\n"
     ]
    },
    {
     "data": {
      "text/plain": [
       "<AxesSubplot:xlabel='Cabin', ylabel='Density'>"
      ]
     },
     "execution_count": 349,
     "metadata": {},
     "output_type": "execute_result"
    },
    {
     "data": {
      "image/png": "[encoded data removed]",
      "text/plain": [
       "<Figure size 432x288 with 1 Axes>"
      ]
     },
     "metadata": {},
     "output_type": "display_data"
    }
   ],
   "source": [
    "titanic_data_cabin = titanic_data.copy()\n",
    "titanic_data_cabin = titanic_data_cabin[['Survived', 'Cabin']]\n",
    "titanic_data_cabin = titanic_data_cabin.dropna()\n",
    "titanic_data_cabin.Cabin = titanic_data_cabin.Cabin.apply(lambda s: s[0])\n",
    "\n",
    "titanic_data_cabin_ratio = titanic_data_cabin.groupby('Cabin').Survived.sum() / titanic_data_cabin.Survived.sum()\n",
    "print(titanic_data_cabin_ratio.sort_values())\n",
    "\n",
    "titanic_data_cabin.Cabin = titanic_data_cabin.Cabin.replace({'A':0, 'B':1, 'C':2, 'D':3, 'E':4, 'F':5, 'G':6, 'T':7})\n",
    "sns.kdeplot(titanic_data_cabin[titanic_data_cabin.Survived==0].Cabin, label='dead', shade=True)\n",
    "sns.kdeplot(titanic_data_cabin[titanic_data_cabin.Survived==1].Cabin, label='alive', shade=True)"
   ]
  },
  {
   "cell_type": "markdown",
   "id": "0cb6c270-45d9-44ff-a156-1cb276f4ba30",
   "metadata": {},
   "source": [
    "## Зависимость выживаемости от билета"
   ]
  },
  {
   "cell_type": "code",
   "execution_count": 361,
   "id": "1e885934-3323-48d4-b50c-d5b1124e415f",
   "metadata": {},
   "outputs": [
    {
     "name": "stdout",
     "output_type": "stream",
     "text": [
      "Ticket\n",
      "A/5            0.005426\n",
      "C.A.           0.001710\n",
      "SC/PARIS       0.001610\n",
      "SC             0.000694\n",
      "SOTON/O.Q.     0.000669\n",
      "                 ...   \n",
      "424656         0.000000\n",
      "424685         0.000000\n",
      "424697         0.000000\n",
      "424699         0.000000\n",
      "WE/P 9779      0.000000\n",
      "Name: Survived, Length: 75331, dtype: float64\n",
      "Ticket       Pclass\n",
      "A/5          3         0.005609\n",
      "C.A.         3         0.001583\n",
      "SC/PARIS     3         0.001279\n",
      "SOTON/O.Q.   3         0.000755\n",
      "A/5          2         0.000702\n",
      "                         ...   \n",
      "353157       3         0.000010\n",
      "353145       2         0.000010\n",
      "353136       1         0.000010\n",
      "353118       3         0.000010\n",
      "WE/P 9779    3         0.000010\n",
      "Name: Pclass, Length: 85043, dtype: float64\n"
     ]
    }
   ],
   "source": [
    "titanic_data_ticket = titanic_data.copy()\n",
    "titanic_data_ticket = titanic_data_ticket[['Survived', 'Ticket', 'Pclass']].dropna()\n",
    "titanic_data_ticket_ratio = titanic_data_ticket.groupby('Ticket').Survived.sum() / titanic_data_ticket.Survived.sum()\n",
    "titanic_data_ticket_pclass = titanic_data_ticket.groupby('Ticket').Pclass.value_counts() / titanic_data_ticket.Pclass.count()\n",
    "print(titanic_data_ticket_ratio.sort_values(ascending=False))\n",
    "print(titanic_data_ticket_pclass.sort_values(ascending=False))"
   ]
  },
  {
   "cell_type": "markdown",
   "id": "2fef5d3f-bf70-45bb-8961-2b2f7171a862",
   "metadata": {},
   "source": [
    "## Зависимость выживаемости от порта посадки"
   ]
  },
  {
   "cell_type": "code",
   "execution_count": 350,
   "id": "eb49898b-5f5d-4908-8700-cfd005530dbe",
   "metadata": {},
   "outputs": [
    {
     "name": "stdout",
     "output_type": "stream",
     "text": [
      "Embarked\n",
      "C    0.390814\n",
      "Q    0.075917\n",
      "S    0.533269\n",
      "Name: Survived, dtype: float64\n",
      "Embarked  Pclass\n",
      "C         1         0.118727\n",
      "          2         0.061714\n",
      "          3         0.041985\n",
      "Q         1         0.037604\n",
      "          2         0.008461\n",
      "          3         0.008311\n",
      "S         3         0.359850\n",
      "          2         0.216632\n",
      "          1         0.146717\n",
      "Name: Pclass, dtype: float64\n"
     ]
    },
    {
     "data": {
      "text/plain": [
       "<AxesSubplot:xlabel='Embarked', ylabel='Density'>"
      ]
     },
     "execution_count": 350,
     "metadata": {},
     "output_type": "execute_result"
    },
    {
     "data": {
      "image/png": "[encoded data removed]",
      "text/plain": [
       "<Figure size 432x288 with 1 Axes>"
      ]
     },
     "metadata": {},
     "output_type": "display_data"
    }
   ],
   "source": [
    "titanic_data_emb = titanic_data.copy()\n",
    "titanic_data_emb = titanic_data_emb[['Survived', 'Embarked', 'Pclass']].dropna()\n",
    "\n",
    "print(titanic_data_emb.groupby('Embarked').Survived.sum() / titanic_data_emb.Survived.sum())\n",
    "print(titanic_data_emb.groupby('Embarked').Pclass.value_counts() / titanic_data_emb.Pclass.count())\n",
    "\n",
    "titanic_data_emb.Embarked = titanic_data_emb.Embarked.replace({'S':0, 'C':1, 'Q':2})\n",
    "sns.kdeplot(titanic_data_emb[titanic_data_emb.Survived==0].Embarked, label='dead', shade=True)\n",
    "sns.kdeplot(titanic_data_emb[titanic_data_emb.Survived==1].Embarked, label='alive', shade=True)"
   ]
  },
  {
   "cell_type": "markdown",
   "id": "2bc881fb-34e5-46ac-b3d4-1aec53ec7281",
   "metadata": {},
   "source": [
    "## Зависимость выживаемости от возраста"
   ]
  },
  {
   "cell_type": "code",
   "execution_count": 351,
   "id": "11782417-e767-42d9-bce8-e7ea3833ab08",
   "metadata": {},
   "outputs": [
    {
     "data": {
      "text/plain": [
       "<AxesSubplot:xlabel='Age', ylabel='Density'>"
      ]
     },
     "execution_count": 351,
     "metadata": {},
     "output_type": "execute_result"
    },
    {
     "data": {
      "image/png": "[encoded data removed]",
      "text/plain": [
       "<Figure size 432x288 with 1 Axes>"
      ]
     },
     "metadata": {},
     "output_type": "display_data"
    }
   ],
   "source": [
    "sns.kdeplot(titanic_data[titanic_data.Survived==0].Age, label='dead', shade=True)\n",
    "sns.kdeplot(titanic_data[titanic_data.Survived==1].Age, label='alive', shade=True)"
   ]
  },
  {
   "cell_type": "markdown",
   "id": "b835b3b9-5fda-4381-89f1-914fdc8fe6f4",
   "metadata": {},
   "source": [
    "## Зависимость выживаемости от класса"
   ]
  },
  {
   "cell_type": "code",
   "execution_count": 352,
   "id": "5f452ca6-1974-4c1c-8455-8b91e70b17b1",
   "metadata": {},
   "outputs": [
    {
     "data": {
      "text/plain": [
       "Pclass\n",
       "1    0.410904\n",
       "2    0.352013\n",
       "3    0.237083\n",
       "Name: Survived, dtype: float64"
      ]
     },
     "execution_count": 352,
     "metadata": {},
     "output_type": "execute_result"
    },
    {
     "data": {
      "image/png": "[encoded data removed]",
      "text/plain": [
       "<Figure size 432x288 with 1 Axes>"
      ]
     },
     "metadata": {},
     "output_type": "display_data"
    }
   ],
   "source": [
    "sns.kdeplot(titanic_data[titanic_data.Survived==0].Pclass, label='dead', shade=True)\n",
    "sns.kdeplot(titanic_data[titanic_data.Survived==1].Pclass, label='alive', shade=True)\n",
    "\n",
    "titanic_data.groupby('Pclass').Survived.sum() / titanic_data.Survived.sum()\n",
    "\n",
    "# sns.lineplot(data=titanic_data.groupby('Pclass').Survived.sum() / titanic_data.Survived.sum())"
   ]
  },
  {
   "cell_type": "markdown",
   "id": "a94fa541-8032-4cce-9373-b11d7617b6d2",
   "metadata": {},
   "source": [
    "## Зависимость выживаемости от стоимости билета"
   ]
  },
  {
   "cell_type": "code",
   "execution_count": 353,
   "id": "19dd6f64-063a-4a2c-b94d-3dd0d026fa7d",
   "metadata": {},
   "outputs": [
    {
     "data": {
      "text/plain": [
       "<AxesSubplot:xlabel='Fare', ylabel='Density'>"
      ]
     },
     "execution_count": 353,
     "metadata": {},
     "output_type": "execute_result"
    },
    {
     "data": {
      "image/png": "[encoded data removed]",
      "text/plain": [
       "<Figure size 432x288 with 1 Axes>"
      ]
     },
     "metadata": {},
     "output_type": "display_data"
    }
   ],
   "source": [
    "sns.kdeplot(titanic_data[titanic_data.Survived==0].Fare, label='dead', shade=True)\n",
    "sns.kdeplot(titanic_data[titanic_data.Survived==1].Fare, label='alive', shade=True)"
   ]
  },
  {
   "cell_type": "markdown",
   "id": "f7b547f0-7c69-46b9-8b58-838fb5f0188f",
   "metadata": {},
   "source": [
    "## Зависимость выживаемости от количества супруг/братьев/сестёр"
   ]
  },
  {
   "cell_type": "code",
   "execution_count": 354,
   "id": "d789919a-5646-4ec9-9b34-8a4546d82551",
   "metadata": {},
   "outputs": [
    {
     "data": {
      "text/plain": [
       "SibSp\n",
       "0    0.731543\n",
       "1    0.200355\n",
       "2    0.039300\n",
       "3    0.015290\n",
       "4    0.010263\n",
       "5    0.000584\n",
       "8    0.002665\n",
       "Name: Survived, dtype: float64"
      ]
     },
     "execution_count": 354,
     "metadata": {},
     "output_type": "execute_result"
    },
    {
     "data": {
      "image/png": "[encoded data removed]",
      "text/plain": [
       "<Figure size 432x288 with 1 Axes>"
      ]
     },
     "metadata": {},
     "output_type": "display_data"
    }
   ],
   "source": [
    "sns.kdeplot(titanic_data[titanic_data.Survived==0].SibSp, label='dead', shade=True)\n",
    "sns.kdeplot(titanic_data[titanic_data.Survived==1].SibSp, label='alive', shade=True)\n",
    "\n",
    "titanic_data.groupby('SibSp').Survived.sum() / titanic_data.Survived.sum()"
   ]
  },
  {
   "cell_type": "markdown",
   "id": "3fad4364-f0b4-4e5a-bd0c-0293e9012f0b",
   "metadata": {},
   "source": [
    "## Зависимость выживаемости от количества родителей/детей"
   ]
  },
  {
   "cell_type": "code",
   "execution_count": 355,
   "id": "c756146d-79f9-4a73-a44b-e9fd848d5ff0",
   "metadata": {},
   "outputs": [
    {
     "data": {
      "text/plain": [
       "Parch\n",
       "0    0.696662\n",
       "1    0.179876\n",
       "2    0.101066\n",
       "3    0.011315\n",
       "4    0.002969\n",
       "5    0.004419\n",
       "6    0.000982\n",
       "9    0.002712\n",
       "Name: Survived, dtype: float64"
      ]
     },
     "execution_count": 355,
     "metadata": {},
     "output_type": "execute_result"
    },
    {
     "data": {
      "image/png": "[encoded data removed]",
      "text/plain": [
       "<Figure size 432x288 with 1 Axes>"
      ]
     },
     "metadata": {},
     "output_type": "display_data"
    }
   ],
   "source": [
    "sns.kdeplot(titanic_data[titanic_data.Survived==0].Parch, label='dead', shade=True)\n",
    "sns.kdeplot(titanic_data[titanic_data.Survived==1].Parch, label='alive', shade=True)\n",
    "\n",
    "titanic_data.groupby('Parch').Survived.sum() / titanic_data.Survived.sum()"
   ]
  },
  {
   "cell_type": "markdown",
   "id": "034945c8",
   "metadata": {},
   "source": [
    "# Summary"
   ]
  },
  {
   "cell_type": "markdown",
   "id": "cbc4c270-5dfa-4994-87ae-5136d320f68a",
   "metadata": {},
   "source": [
    "1) Средний возраст пассажиров - 38 лет. Распределение немного странное - видно, что у него 3 доминанты - 5, 25, 50 лет.\n",
    "2) Видно, что распределение стоимости билетов смещено влево - т.е. больше всего людей купили дешёвые билеты. \n",
    "3) Всего выжило 42% людей\n",
    "4) Женщин и мужчин примерно поровну (женщин 43%, мужчин 56%)\n",
    "5) Видно, что выживаемость зависит от переменной Pclass. По какой-то причине самая низкая выживаемость в Pclass=3 (4%). Самая высокая выживаемость для Pclass=1 составила 83%. Судя по описанию к датасету 3й класс соответствует самому низкому социальному и экономическому статусу. Следовательно, богатых спасали гораздо чаще, чем бедных.\n",
    "6) Видим, что от возраста выживаемость зависит, но слабо. Стариков выжило больше, чем умерло. Молодых умерло больше, чем выжило. У детей ярко выраженной зависимости нет.\n",
    "7) Есть общая тенденция - шанс выжить больше, если кол-во людей, которые едут с человеком равно 0 (SibSp=0, Parch=0). Выживших для SibSp = 0 - 71%. Выживших для Parch = 0 - 73%.\n",
    "8) Женщины выживали чаще, чем мужчины (73% всех женщин выжило, в то время как процент выживших мужчин - 26%)\n",
    "9) По кабинам - наихудшая выживаемость в кабинах с префиксом T - почти 0%. Есть подозрение, что от T просто дальше всего бежать к спасательным лодкам. Лучшая выживаемость у кабины C - 43% от общего числа выживших.\n",
    "10) По каким-то загадочным причинам люди, выплышие из C (Cherbourg) выживали чаще (53% выживших). На втором месте S (Southampton) - 39%. На третьем Q (Queenstown) - 7%. Не понятно откуда взялась такая ярко-выраженная зависимость. Может просто Cherbourg - порт какого-то богатого города. Нужно посмотреть связь Embarked и Pclass. Видим, что в S село 35% пассажиров 1го класса, а в C 11% пассажиров 1го класса. В Q всего 3% пассажиров 1го класса. В общем похоже C и S действительно побогаче банально.\n",
    "11) По какой-то совершенно неясной причине есть зависимость выживаемости от типа билета. Вот в порядке убывания выживаемости топ билетов: A/5, C.A., SC/PARIS, SC, SOTON/O.Q. Нужно посмотреть связь Ticket и Pclass. В основном первые 4 лучших по выживаемости билетов - 3 класс. Связь пока не понятна."
   ]
  }
 ],
 "metadata": {
  "kernelspec": {
   "display_name": "Python 3 (ipykernel)",
   "language": "python",
   "name": "python3"
  },
  "language_info": {
   "codemirror_mode": {
    "name": "ipython",
    "version": 3
   },
   "file_extension": ".py",
   "mimetype": "text/x-python",
   "name": "python",
   "nbconvert_exporter": "python",
   "pygments_lexer": "ipython3",
   "version": "3.8.0"
  },
  "toc": {
   "base_numbering": 1,
   "nav_menu": {},
   "number_sections": true,
   "sideBar": true,
   "skip_h1_title": false,
   "title_cell": "Table of Contents",
   "title_sidebar": "Contents",
   "toc_cell": false,
   "toc_position": {},
   "toc_section_display": true,
   "toc_window_display": false
  }
 },
 "nbformat": 4,
 "nbformat_minor": 5
}
